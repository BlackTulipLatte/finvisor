{
 "cells": [
  {
   "cell_type": "code",
   "execution_count": 1,
   "metadata": {},
   "outputs": [
    {
     "name": "stderr",
     "output_type": "stream",
     "text": [
      "/opt/miniconda3/lib/python3.9/site-packages/tqdm/auto.py:22: TqdmWarning: IProgress not found. Please update jupyter and ipywidgets. See https://ipywidgets.readthedocs.io/en/stable/user_install.html\n",
      "  from .autonotebook import tqdm as notebook_tqdm\n"
     ]
    }
   ],
   "source": [
    "# Import relevant libraries\n",
    "import torch\n",
    "import transformers\n",
    "from transformers import T5Tokenizer, T5ForConditionalGeneration, T5Config"
   ]
  },
  {
   "cell_type": "code",
   "execution_count": 2,
   "metadata": {},
   "outputs": [
    {
     "name": "stderr",
     "output_type": "stream",
     "text": [
      "Downloading (…)neration_config.json: 100%|██████████| 147/147 [00:00<00:00, 110kB/s]\n",
      "Downloading (…)ve/main/spiece.model: 100%|██████████| 792k/792k [00:00<00:00, 3.97MB/s]\n",
      "Downloading (…)okenizer_config.json: 100%|██████████| 2.32k/2.32k [00:00<00:00, 11.3MB/s]\n",
      "You are using the legacy behaviour of the <class 'transformers.models.t5.tokenization_t5.T5Tokenizer'>. This means that tokens that come after special tokens will not be properly handled. We recommend you to read the related pull request available at https://github.com/huggingface/transformers/pull/24565\n"
     ]
    }
   ],
   "source": [
    "# Pretrained models\n",
    "model = T5ForConditionalGeneration.from_pretrained('t5-small')\n",
    "tokenizer = T5Tokenizer.from_pretrained('t5-small')\n",
    "device = torch.device('cpu')"
   ]
  },
  {
   "cell_type": "code",
   "execution_count": null,
   "metadata": {},
   "outputs": [],
   "source": [
    "# Input text\n",
    "text = \"\"\"\n",
    "Starting tomorrow, millions of low- and modest-income Canadian workers will receive their first automatic advance payments of the newly enhanced Canada Workers Benefit, announced the Deputy Prime Minister and Minister of Finance, Chrystia Freeland.\n",
    "\n",
    "Enhancements to the Canada Workers Benefit, first announced in 2021, expanded eligibility to an additional one million workers—and now, support from the enhanced Canada Workers Benefit will come sooner to those who need it most. Prior to the recent passage of Bill C-47, people needed to wait until they filed their taxes to receive this support, which helps them pay for day-to-day essentials like groceries and rent.\n",
    "\n",
    "To top-up the incomes of our lowest-paid—and often most essential—workers, the Canada Workers Benefit will provide up to $2,616 total for an eligible family, and $1,518 total for eligible single workers, split between three advance payments this fiscal year (in July 2023, October 2023, and January 2024), and a final payment after filing their 2023 tax return.\n",
    "\n",
    "Low- and modest-income Canadian workers who received the Canada Workers Benefit in 2022 will automatically receive their advance payments from the Canada Revenue Agency, with no need to apply.\n",
    "\n",
    "\"\"\""
   ]
  },
  {
   "cell_type": "code",
   "execution_count": null,
   "metadata": {},
   "outputs": [],
   "source": [
    "# Preprocessing\n",
    "preprocess_text = text.strip().replace(\"\\n\", \"\")\n",
    "input_text = 'summarize: ' + preprocess_text "
   ]
  },
  {
   "cell_type": "code",
   "execution_count": null,
   "metadata": {},
   "outputs": [],
   "source": [
    "# View preprocessed text\n",
    "len(t5_input_text.split())"
   ]
  }
 ],
 "metadata": {
  "kernelspec": {
   "display_name": "base",
   "language": "python",
   "name": "python3"
  },
  "language_info": {
   "codemirror_mode": {
    "name": "ipython",
    "version": 3
   },
   "file_extension": ".py",
   "mimetype": "text/x-python",
   "name": "python",
   "nbconvert_exporter": "python",
   "pygments_lexer": "ipython3",
   "version": "3.9.15"
  },
  "orig_nbformat": 4
 },
 "nbformat": 4,
 "nbformat_minor": 2
}
